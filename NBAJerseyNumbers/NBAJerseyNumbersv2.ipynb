{
 "cells": [
  {
   "cell_type": "code",
   "execution_count": 2,
   "metadata": {
    "collapsed": true
   },
   "outputs": [],
   "source": [
    "# imports\n",
    "import pandas as pd\n",
    "import requests\n",
    "import matplotlib.pyplot as plt\n",
    "from bs4 import BeautifulSoup\n",
    "import re\n",
    "from time import sleep\n",
    "import numpy as np\n",
    "\n",
    "plt.style.use('seaborn-darkgrid')\n",
    "\n",
    "%matplotlib inline"
   ]
  },
  {
   "cell_type": "code",
   "execution_count": null,
   "metadata": {
    "collapsed": false,
    "scrolled": true
   },
   "outputs": [
    {
     "data": {
      "text/plain": [
       "['00',\n",
       " '0',\n",
       " '1',\n",
       " '2',\n",
       " '03',\n",
       " '3',\n",
       " '4',\n",
       " '5',\n",
       " '6',\n",
       " '07',\n",
       " '7',\n",
       " '8',\n",
       " '09',\n",
       " '9',\n",
       " '10',\n",
       " '11',\n",
       " '12',\n",
       " '13',\n",
       " '14',\n",
       " '15',\n",
       " '16',\n",
       " '17',\n",
       " '18',\n",
       " '19',\n",
       " '20',\n",
       " '21',\n",
       " '22',\n",
       " '23',\n",
       " '24',\n",
       " '25',\n",
       " '26',\n",
       " '27',\n",
       " '28',\n",
       " '29',\n",
       " '30',\n",
       " '31',\n",
       " '32',\n",
       " '33',\n",
       " '34',\n",
       " '35',\n",
       " '36',\n",
       " '37',\n",
       " '38',\n",
       " '39',\n",
       " '40',\n",
       " '41',\n",
       " '42',\n",
       " '43',\n",
       " '44',\n",
       " '45',\n",
       " '46',\n",
       " '47',\n",
       " '48',\n",
       " '49',\n",
       " '50',\n",
       " '51',\n",
       " '52',\n",
       " '53',\n",
       " '54',\n",
       " '55',\n",
       " '56',\n",
       " '57',\n",
       " '60',\n",
       " '61',\n",
       " '62',\n",
       " '63',\n",
       " '65',\n",
       " '66',\n",
       " '67',\n",
       " '68',\n",
       " '70',\n",
       " '71',\n",
       " '72',\n",
       " '73',\n",
       " '76',\n",
       " '77',\n",
       " '83',\n",
       " '84',\n",
       " '85',\n",
       " '86',\n",
       " '88',\n",
       " '89',\n",
       " '90',\n",
       " '91',\n",
       " '92',\n",
       " '93',\n",
       " '94',\n",
       " '95',\n",
       " '96',\n",
       " '98',\n",
       " '99']"
      ]
     },
     "execution_count": 3,
     "metadata": {},
     "output_type": "execute_result"
    }
   ],
   "source": [
    "# requesting b-r link so that we can collect the list of number options\n",
    "link = 'http://www.basketball-reference.com/friv/numbers.cgi?number=00'\n",
    "r = requests.get(link)\n",
    "b = BeautifulSoup(r.text, 'lxml')\n",
    "\n",
    "num_options = b.find('select',{'class':'no_chosen','name':'number'})\n",
    "num_options = num_options.find_all('option')\n",
    "numbers = [num.text[:-1] for num in num_options]\n",
    "del(numbers[2])\n",
    "numbers"
   ]
  },
  {
   "cell_type": "code",
   "execution_count": null,
   "metadata": {
    "collapsed": false,
    "scrolled": true
   },
   "outputs": [],
   "source": [
    "# loop through numbers, request links, and load all the player data to \n",
    "# a temporary dict, then append copy of dict to list, finally create DF\n",
    "player_dict = {'num':None, 'player':None, 'team':None, 'year':None}\n",
    "player_list = []\n",
    "\n",
    "for number in numbers:\n",
    "    sleep(1)\n",
    "    link_start = link[:-2]\n",
    "    r = requests.get(link_start + number)\n",
    "    b = BeautifulSoup(r.text, 'lxml')\n",
    "    player_dict['num'] = number\n",
    "    table = b.find('table', {'id':'numbers'})\n",
    "    table_rows = table.find_all('tr')[1:]\n",
    "    \n",
    "    for row in table_rows:\n",
    "        player_name = row.find('th',{'data-stat':'player'}).text\n",
    "        player_dict['player'] = player_name.replace('*','')\n",
    "        team_text = row.find('td',{'data-stat':'teams'}).text\n",
    "        team_text = re.split('\\(|\\)', team_text)\n",
    "        \n",
    "        for i in range(len(team_text[:-1])):\n",
    "            if i % 2 == 0:\n",
    "                player_dict['team'] = team_text[i].strip()\n",
    "            else:\n",
    "                for year in team_text[i].split(', '):\n",
    "                    player_dict['year'] = year\n",
    "                    player_list.append(player_dict.copy())\n",
    "\n",
    "cols = ['num','player','team','year']\n",
    "num_df = pd.DataFrame(player_list, columns = cols)\n",
    "\n",
    "num_df"
   ]
  },
  {
   "cell_type": "code",
   "execution_count": null,
   "metadata": {
    "collapsed": false
   },
   "outputs": [],
   "source": [
    "print(plt.style.available)"
   ]
  },
  {
   "cell_type": "code",
   "execution_count": null,
   "metadata": {
    "collapsed": false
   },
   "outputs": [],
   "source": [
    "\n",
    "# let's look at how all numbers are distributed\n",
    "fig, ax = plt.subplots()\n",
    "num_df.groupby('num').size().reset_index(name='count').sort_values(\n",
    "   'num').plot(kind='bar',\n",
    "               x='num',\n",
    "               y='count',\n",
    "               figsize=(20,10),\n",
    "               ax=ax,\n",
    "               fontsize=13)\n",
    "fig.suptitle('Count of jerseys numbers in the NBA (1949-2017)', \n",
    "             fontsize=25)"
   ]
  },
  {
   "cell_type": "code",
   "execution_count": null,
   "metadata": {
    "collapsed": false
   },
   "outputs": [],
   "source": [
    "# let's look at the same view but by a buckets of 10\n",
    "num_df['bucket'] = num_df['num'].map(lambda x: 0 if int(x) < 10 else\n",
    "                                    int(x[0]))\n",
    "\n",
    "fig, ax = plt.subplots()\n",
    "num_df.groupby('bucket').size().plot(kind='bar', \n",
    "                                     x='num',\n",
    "                                     y='count',\n",
    "                                     ax=ax)\n",
    "fig.suptitle('Count of jerseys by starting digit in the NBA', \n",
    "             fontsize=14)"
   ]
  },
  {
   "cell_type": "code",
   "execution_count": null,
   "metadata": {
    "collapsed": false
   },
   "outputs": [],
   "source": [
    "# let's look at how this changed over time\n",
    "# 1987\n",
    "fig, ax = plt.subplots()\n",
    "df_1970 = num_df[num_df['year']=='50']\n",
    "df_1970.groupby('bucket').size().plot(kind='bar', \n",
    "                                     x='num',\n",
    "                                     y='count',\n",
    "                                     ax=ax)\n",
    "fig.suptitle('Count of jerseys by starting digit in the NBA (1950)', \n",
    "             fontsize=14)\n",
    "\n",
    "# 2017\n",
    "fig, ax = plt.subplots()\n",
    "df_2017 = num_df[num_df['year']=='17']\n",
    "df_2017.groupby('bucket').size().plot(kind='bar', \n",
    "                                     x='num',\n",
    "                                     y='count',\n",
    "                                     ax=ax)\n",
    "fig.suptitle('Count of jerseys by starting digit in the NBA (2017)', \n",
    "             fontsize=14)"
   ]
  },
  {
   "cell_type": "code",
   "execution_count": null,
   "metadata": {
    "collapsed": false
   },
   "outputs": [],
   "source": [
    "# add a full_year column to the dataframe\n",
    "num_df['full_year'] = num_df['year'].map(lambda x: \n",
    "                                         '20' + x if x < '30' else '19' + x)\n",
    "num_df.head()"
   ]
  },
  {
   "cell_type": "code",
   "execution_count": null,
   "metadata": {
    "collapsed": false,
    "scrolled": true
   },
   "outputs": [],
   "source": [
    "# let's at the most recent numbers to be \"inaugurated\" in the NBA\n",
    "min_year = num_df.groupby(['num'])['full_year'].min().reset_index(\n",
    "    name='full_year').sort_values(\n",
    "    'full_year', ascending=False).reset_index(drop=True)\n",
    "\n",
    "min_year['first_player'] = min_year.apply(lambda x: num_df[(num_df['num'] == x['num'])&\n",
    "                 (num_df['full_year'] == x['full_year'])].iloc[0]['player'],\n",
    "              axis=1)\n",
    "\n",
    "min_year['first_player2'] = min_year.apply(lambda x: num_df[(num_df['num'] == x['num'])&\n",
    "                 (num_df['full_year'] == x['full_year'])].iloc[1]['player']\n",
    "               if num_df[(num_df['num'] == x['num'])&\n",
    "                 (num_df['full_year'] == x['full_year'])].shape[0] > 1\n",
    "               else np.nan,\n",
    "              axis=1)\n",
    "\n",
    "min_year['num_first'] = min_year.apply(lambda x: num_df[(num_df['num'] == x['num'])&\n",
    "                 (num_df['full_year'] == x['full_year'])].shape[0],\n",
    "              axis=1)\n",
    "\n",
    "min_year"
   ]
  },
  {
   "cell_type": "code",
   "execution_count": null,
   "metadata": {
    "collapsed": false
   },
   "outputs": [],
   "source": [
    "# let's look at the most popular number for each year\n",
    "ph = {'full_year':None, 'most_popular_num':None}\n",
    "ph_ = []\n",
    "for year in num_df['full_year'].unique():\n",
    "    ph['most_popular_num'] = num_df[num_df['full_year'] == year].groupby(\n",
    "        'num').size().sort_values(ascending=False)[0]\n",
    "    ph['full_year'] = year\n",
    "    ph_.append(ph.copy())\n",
    "    \n",
    "cols = ['full_year','most_popular_num']\n",
    "pop_df = pd.DataFrame(ph_, columns = cols).sort_values('full_year',\n",
    "    ascending=True)\n",
    "\n",
    "pop_df.plot(kind='line', x='full_year', y='most_popular_num',\n",
    "            title='Most popular jersey number in NBA by year')"
   ]
  },
  {
   "cell_type": "code",
   "execution_count": null,
   "metadata": {
    "collapsed": false
   },
   "outputs": [],
   "source": [
    "# now we'll see which numbers have occured the most overall\n",
    "num_df.num.value_counts().reset_index()[0:10].plot(\n",
    "    kind='bar',x='index',y='num', legend=False,\n",
    "    title='Most popular jersey numbers in NBA')"
   ]
  },
  {
   "cell_type": "code",
   "execution_count": null,
   "metadata": {
    "collapsed": false
   },
   "outputs": [],
   "source": [
    "for i in range(1,100):\n",
    "    if str(i) not in num_df['num'].unique():\n",
    "        print(i)"
   ]
  },
  {
   "cell_type": "code",
   "execution_count": null,
   "metadata": {
    "collapsed": true
   },
   "outputs": [],
   "source": []
  }
 ],
 "metadata": {
  "kernelspec": {
   "display_name": "Python 3",
   "language": "python",
   "name": "python3"
  },
  "language_info": {
   "codemirror_mode": {
    "name": "ipython",
    "version": 3
   },
   "file_extension": ".py",
   "mimetype": "text/x-python",
   "name": "python",
   "nbconvert_exporter": "python",
   "pygments_lexer": "ipython3",
   "version": "3.5.1"
  }
 },
 "nbformat": 4,
 "nbformat_minor": 0
}
